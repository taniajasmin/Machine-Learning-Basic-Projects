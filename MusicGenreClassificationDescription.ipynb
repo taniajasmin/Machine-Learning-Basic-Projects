{
  "nbformat": 4,
  "nbformat_minor": 0,
  "metadata": {
    "colab": {
      "provenance": [],
      "authorship_tag": "ABX9TyP+2dZJvdECDMJnAr2MfJX4",
      "include_colab_link": true
    },
    "kernelspec": {
      "name": "python3",
      "display_name": "Python 3"
    },
    "language_info": {
      "name": "python"
    }
  },
  "cells": [
    {
      "cell_type": "markdown",
      "metadata": {
        "id": "view-in-github",
        "colab_type": "text"
      },
      "source": [
        "<a href=\"https://colab.research.google.com/github/taniajasmin/Machine-Learning-Basic-Projects/blob/main/MusicGenreClassificationDescription.ipynb\" target=\"_parent\"><img src=\"https://colab.research.google.com/assets/colab-badge.svg\" alt=\"Open In Colab\"/></a>"
      ]
    },
    {
      "cell_type": "code",
      "source": [
        "!pip install librosa tensorflow scikit-learn matplotlib"
      ],
      "metadata": {
        "colab": {
          "base_uri": "https://localhost:8080/"
        },
        "id": "sge5ez-gjv9a",
        "outputId": "2cf17978-f675-4bd7-f4e0-802dc08fd4ae"
      },
      "execution_count": null,
      "outputs": [
        {
          "output_type": "stream",
          "name": "stdout",
          "text": [
            "Requirement already satisfied: librosa in /usr/local/lib/python3.12/dist-packages (0.11.0)\n",
            "Requirement already satisfied: tensorflow in /usr/local/lib/python3.12/dist-packages (2.19.0)\n",
            "Requirement already satisfied: scikit-learn in /usr/local/lib/python3.12/dist-packages (1.6.1)\n",
            "Requirement already satisfied: matplotlib in /usr/local/lib/python3.12/dist-packages (3.10.0)\n",
            "Requirement already satisfied: audioread>=2.1.9 in /usr/local/lib/python3.12/dist-packages (from librosa) (3.0.1)\n",
            "Requirement already satisfied: numba>=0.51.0 in /usr/local/lib/python3.12/dist-packages (from librosa) (0.60.0)\n",
            "Requirement already satisfied: numpy>=1.22.3 in /usr/local/lib/python3.12/dist-packages (from librosa) (2.0.2)\n",
            "Requirement already satisfied: scipy>=1.6.0 in /usr/local/lib/python3.12/dist-packages (from librosa) (1.16.1)\n",
            "Requirement already satisfied: joblib>=1.0 in /usr/local/lib/python3.12/dist-packages (from librosa) (1.5.1)\n",
            "Requirement already satisfied: decorator>=4.3.0 in /usr/local/lib/python3.12/dist-packages (from librosa) (4.4.2)\n",
            "Requirement already satisfied: soundfile>=0.12.1 in /usr/local/lib/python3.12/dist-packages (from librosa) (0.13.1)\n",
            "Requirement already satisfied: pooch>=1.1 in /usr/local/lib/python3.12/dist-packages (from librosa) (1.8.2)\n",
            "Requirement already satisfied: soxr>=0.3.2 in /usr/local/lib/python3.12/dist-packages (from librosa) (0.5.0.post1)\n",
            "Requirement already satisfied: typing_extensions>=4.1.1 in /usr/local/lib/python3.12/dist-packages (from librosa) (4.14.1)\n",
            "Requirement already satisfied: lazy_loader>=0.1 in /usr/local/lib/python3.12/dist-packages (from librosa) (0.4)\n",
            "Requirement already satisfied: msgpack>=1.0 in /usr/local/lib/python3.12/dist-packages (from librosa) (1.1.1)\n",
            "Requirement already satisfied: absl-py>=1.0.0 in /usr/local/lib/python3.12/dist-packages (from tensorflow) (1.4.0)\n",
            "Requirement already satisfied: astunparse>=1.6.0 in /usr/local/lib/python3.12/dist-packages (from tensorflow) (1.6.3)\n",
            "Requirement already satisfied: flatbuffers>=24.3.25 in /usr/local/lib/python3.12/dist-packages (from tensorflow) (25.2.10)\n",
            "Requirement already satisfied: gast!=0.5.0,!=0.5.1,!=0.5.2,>=0.2.1 in /usr/local/lib/python3.12/dist-packages (from tensorflow) (0.6.0)\n",
            "Requirement already satisfied: google-pasta>=0.1.1 in /usr/local/lib/python3.12/dist-packages (from tensorflow) (0.2.0)\n",
            "Requirement already satisfied: libclang>=13.0.0 in /usr/local/lib/python3.12/dist-packages (from tensorflow) (18.1.1)\n",
            "Requirement already satisfied: opt-einsum>=2.3.2 in /usr/local/lib/python3.12/dist-packages (from tensorflow) (3.4.0)\n",
            "Requirement already satisfied: packaging in /usr/local/lib/python3.12/dist-packages (from tensorflow) (25.0)\n",
            "Requirement already satisfied: protobuf!=4.21.0,!=4.21.1,!=4.21.2,!=4.21.3,!=4.21.4,!=4.21.5,<6.0.0dev,>=3.20.3 in /usr/local/lib/python3.12/dist-packages (from tensorflow) (5.29.5)\n",
            "Requirement already satisfied: requests<3,>=2.21.0 in /usr/local/lib/python3.12/dist-packages (from tensorflow) (2.32.4)\n",
            "Requirement already satisfied: setuptools in /usr/local/lib/python3.12/dist-packages (from tensorflow) (75.2.0)\n",
            "Requirement already satisfied: six>=1.12.0 in /usr/local/lib/python3.12/dist-packages (from tensorflow) (1.17.0)\n",
            "Requirement already satisfied: termcolor>=1.1.0 in /usr/local/lib/python3.12/dist-packages (from tensorflow) (3.1.0)\n",
            "Requirement already satisfied: wrapt>=1.11.0 in /usr/local/lib/python3.12/dist-packages (from tensorflow) (1.17.3)\n",
            "Requirement already satisfied: grpcio<2.0,>=1.24.3 in /usr/local/lib/python3.12/dist-packages (from tensorflow) (1.74.0)\n",
            "Requirement already satisfied: tensorboard~=2.19.0 in /usr/local/lib/python3.12/dist-packages (from tensorflow) (2.19.0)\n",
            "Requirement already satisfied: keras>=3.5.0 in /usr/local/lib/python3.12/dist-packages (from tensorflow) (3.10.0)\n",
            "Requirement already satisfied: h5py>=3.11.0 in /usr/local/lib/python3.12/dist-packages (from tensorflow) (3.14.0)\n",
            "Requirement already satisfied: ml-dtypes<1.0.0,>=0.5.1 in /usr/local/lib/python3.12/dist-packages (from tensorflow) (0.5.3)\n",
            "Requirement already satisfied: threadpoolctl>=3.1.0 in /usr/local/lib/python3.12/dist-packages (from scikit-learn) (3.6.0)\n",
            "Requirement already satisfied: contourpy>=1.0.1 in /usr/local/lib/python3.12/dist-packages (from matplotlib) (1.3.3)\n",
            "Requirement already satisfied: cycler>=0.10 in /usr/local/lib/python3.12/dist-packages (from matplotlib) (0.12.1)\n",
            "Requirement already satisfied: fonttools>=4.22.0 in /usr/local/lib/python3.12/dist-packages (from matplotlib) (4.59.1)\n",
            "Requirement already satisfied: kiwisolver>=1.3.1 in /usr/local/lib/python3.12/dist-packages (from matplotlib) (1.4.9)\n",
            "Requirement already satisfied: pillow>=8 in /usr/local/lib/python3.12/dist-packages (from matplotlib) (11.3.0)\n",
            "Requirement already satisfied: pyparsing>=2.3.1 in /usr/local/lib/python3.12/dist-packages (from matplotlib) (3.2.3)\n",
            "Requirement already satisfied: python-dateutil>=2.7 in /usr/local/lib/python3.12/dist-packages (from matplotlib) (2.9.0.post0)\n",
            "Requirement already satisfied: wheel<1.0,>=0.23.0 in /usr/local/lib/python3.12/dist-packages (from astunparse>=1.6.0->tensorflow) (0.45.1)\n",
            "Requirement already satisfied: rich in /usr/local/lib/python3.12/dist-packages (from keras>=3.5.0->tensorflow) (13.9.4)\n",
            "Requirement already satisfied: namex in /usr/local/lib/python3.12/dist-packages (from keras>=3.5.0->tensorflow) (0.1.0)\n",
            "Requirement already satisfied: optree in /usr/local/lib/python3.12/dist-packages (from keras>=3.5.0->tensorflow) (0.17.0)\n",
            "Requirement already satisfied: llvmlite<0.44,>=0.43.0dev0 in /usr/local/lib/python3.12/dist-packages (from numba>=0.51.0->librosa) (0.43.0)\n",
            "Requirement already satisfied: platformdirs>=2.5.0 in /usr/local/lib/python3.12/dist-packages (from pooch>=1.1->librosa) (4.3.8)\n",
            "Requirement already satisfied: charset_normalizer<4,>=2 in /usr/local/lib/python3.12/dist-packages (from requests<3,>=2.21.0->tensorflow) (3.4.3)\n",
            "Requirement already satisfied: idna<4,>=2.5 in /usr/local/lib/python3.12/dist-packages (from requests<3,>=2.21.0->tensorflow) (3.10)\n",
            "Requirement already satisfied: urllib3<3,>=1.21.1 in /usr/local/lib/python3.12/dist-packages (from requests<3,>=2.21.0->tensorflow) (2.5.0)\n",
            "Requirement already satisfied: certifi>=2017.4.17 in /usr/local/lib/python3.12/dist-packages (from requests<3,>=2.21.0->tensorflow) (2025.8.3)\n",
            "Requirement already satisfied: cffi>=1.0 in /usr/local/lib/python3.12/dist-packages (from soundfile>=0.12.1->librosa) (1.17.1)\n",
            "Requirement already satisfied: markdown>=2.6.8 in /usr/local/lib/python3.12/dist-packages (from tensorboard~=2.19.0->tensorflow) (3.8.2)\n",
            "Requirement already satisfied: tensorboard-data-server<0.8.0,>=0.7.0 in /usr/local/lib/python3.12/dist-packages (from tensorboard~=2.19.0->tensorflow) (0.7.2)\n",
            "Requirement already satisfied: werkzeug>=1.0.1 in /usr/local/lib/python3.12/dist-packages (from tensorboard~=2.19.0->tensorflow) (3.1.3)\n",
            "Requirement already satisfied: pycparser in /usr/local/lib/python3.12/dist-packages (from cffi>=1.0->soundfile>=0.12.1->librosa) (2.22)\n",
            "Requirement already satisfied: MarkupSafe>=2.1.1 in /usr/local/lib/python3.12/dist-packages (from werkzeug>=1.0.1->tensorboard~=2.19.0->tensorflow) (3.0.2)\n",
            "Requirement already satisfied: markdown-it-py>=2.2.0 in /usr/local/lib/python3.12/dist-packages (from rich->keras>=3.5.0->tensorflow) (4.0.0)\n",
            "Requirement already satisfied: pygments<3.0.0,>=2.13.0 in /usr/local/lib/python3.12/dist-packages (from rich->keras>=3.5.0->tensorflow) (2.19.2)\n",
            "Requirement already satisfied: mdurl~=0.1 in /usr/local/lib/python3.12/dist-packages (from markdown-it-py>=2.2.0->rich->keras>=3.5.0->tensorflow) (0.1.2)\n"
          ]
        }
      ]
    },
    {
      "cell_type": "code",
      "execution_count": null,
      "metadata": {
        "colab": {
          "base_uri": "https://localhost:8080/"
        },
        "id": "Bad1qVwLjf8q",
        "outputId": "323ae7a8-61d7-4fd2-e47d-a71109052cb3"
      },
      "outputs": [
        {
          "output_type": "stream",
          "name": "stdout",
          "text": [
            "Path to dataset files: /kaggle/input/gtzan-dataset-music-genre-classification\n"
          ]
        }
      ],
      "source": [
        "import kagglehub\n",
        "\n",
        "path = kagglehub.dataset_download(\"andradaolteanu/gtzan-dataset-music-genre-classification\")\n",
        "print(\"Path to dataset files:\", path)"
      ]
    },
    {
      "cell_type": "code",
      "source": [],
      "metadata": {
        "id": "ERPwBQ9Nlk0h"
      },
      "execution_count": null,
      "outputs": []
    },
    {
      "cell_type": "code",
      "source": [
        "import librosa\n",
        "import librosa.display\n",
        "import numpy as np\n",
        "import matplotlib.pyplot as plt\n",
        "import os\n",
        "import pandas as pd\n",
        "from sklearn.model_selection import train_test_split\n",
        "from sklearn.ensemble import RandomForestClassifier\n",
        "from sklearn.metrics import classification_report, confusion_matrix"
      ],
      "metadata": {
        "id": "HNl5fsKMk2M_"
      },
      "execution_count": null,
      "outputs": []
    },
    {
      "cell_type": "code",
      "source": [
        "def extract_features(file_path, n_mfcc=40):\n",
        "    try:\n",
        "        y, sr = librosa.load(file_path, sr=None, duration=30)\n",
        "        mfccs = librosa.feature.mfcc(y=y, sr=sr, n_mfcc=n_mfcc)\n",
        "        return np.mean(mfccs.T, axis=0)\n",
        "    except Exception as e:\n",
        "        print(\"Error with file:\", file_path, \"->\", e)\n",
        "        return None"
      ],
      "metadata": {
        "id": "lraY4Odfly33"
      },
      "execution_count": null,
      "outputs": []
    },
    {
      "cell_type": "code",
      "source": [
        "data = []\n",
        "for genre in genres:\n",
        "    folder = os.path.join(path, \"Data/genres_original\", genre)\n",
        "    for file in os.listdir(folder):\n",
        "        if file.endswith(\".wav\"):\n",
        "            feat = extract_features(os.path.join(folder, file))\n",
        "            if feat is not None:\n",
        "                data.append([feat, genre])"
      ],
      "metadata": {
        "colab": {
          "base_uri": "https://localhost:8080/"
        },
        "id": "PUBoFUhDmBf3",
        "outputId": "4b1566ce-f770-48a9-ea28-94299e3916ef"
      },
      "execution_count": null,
      "outputs": [
        {
          "output_type": "stream",
          "name": "stderr",
          "text": [
            "/tmp/ipython-input-1316781845.py:3: UserWarning: PySoundFile failed. Trying audioread instead.\n",
            "  y, sr = librosa.load(file_path, sr=None, duration=30)\n",
            "/usr/local/lib/python3.12/dist-packages/librosa/core/audio.py:184: FutureWarning: librosa.core.audio.__audioread_load\n",
            "\tDeprecated as of librosa version 0.10.0.\n",
            "\tIt will be removed in librosa version 1.0.\n",
            "  y, sr_native = __audioread_load(path, offset, duration, dtype)\n"
          ]
        },
        {
          "output_type": "stream",
          "name": "stdout",
          "text": [
            "Error with file: /kaggle/input/gtzan-dataset-music-genre-classification/Data/genres_original/jazz/jazz.00054.wav -> \n"
          ]
        }
      ]
    },
    {
      "cell_type": "markdown",
      "source": [
        "Skipping bad files"
      ],
      "metadata": {
        "id": "UiGPeg-6mxFA"
      }
    },
    {
      "cell_type": "code",
      "source": [
        "import warnings, librosa, numpy as np\n",
        "\n",
        "warnings.filterwarnings(\"ignore\", category=UserWarning)\n",
        "\n",
        "def extract_features_safe(file_path, n_mfcc=40, duration=30):\n",
        "    try:\n",
        "        # librosa already tries soundfile -> audioread; we just catch failures\n",
        "        y, sr = librosa.load(file_path, sr=None, duration=duration, res_type=\"kaiser_fast\")\n",
        "        mfcc = librosa.feature.mfcc(y=y, sr=sr, n_mfcc=n_mfcc)\n",
        "        return np.mean(mfcc.T, axis=0)\n",
        "    except Exception as e:\n",
        "        print(\"SKIP:\", file_path, \"->\", type(e).__name__)\n",
        "        return None"
      ],
      "metadata": {
        "id": "8rvzuwKvmD5P"
      },
      "execution_count": null,
      "outputs": []
    },
    {
      "cell_type": "markdown",
      "source": [
        "Building new dataset"
      ],
      "metadata": {
        "id": "Z_WcppcImrpG"
      }
    },
    {
      "cell_type": "code",
      "source": [
        "import os, pandas as pd\n",
        "from tqdm import tqdm\n",
        "\n",
        "# Use the path variable you already have from kagglehub, or fall back to Kaggle mount\n",
        "try:\n",
        "    base = path  # from kagglehub.dataset_download(...)\n",
        "except NameError:\n",
        "    base = \"/kaggle/input/gtzan-dataset-music-genre-classification\"\n",
        "\n",
        "genres = \"blues classical country disco hiphop jazz metal pop reggae rock\".split()\n",
        "root = os.path.join(base, \"Data/genres_original\")\n",
        "\n",
        "rows = []\n",
        "skipped = 0\n",
        "\n",
        "for g in genres:\n",
        "    folder = os.path.join(root, g)\n",
        "    files = sorted([f for f in os.listdir(folder) if f.endswith(\".wav\")])\n",
        "    for f in tqdm(files, desc=g, leave=False):\n",
        "        fp = os.path.join(folder, f)\n",
        "        feat = extract_features_safe(fp)\n",
        "        if feat is None:\n",
        "            skipped += 1\n",
        "            continue\n",
        "        rows.append({\"features\": feat, \"label\": g, \"path\": fp})\n",
        "\n",
        "df = pd.DataFrame(rows)\n",
        "print(\"Total files:\", sum(len(os.listdir(os.path.join(root, g))) for g in genres))\n",
        "print(\"Used:\", len(df), \"Skipped:\", skipped)\n",
        "df.head()"
      ],
      "metadata": {
        "colab": {
          "base_uri": "https://localhost:8080/",
          "height": 348
        },
        "id": "Vcc8iL8Dmmcn",
        "outputId": "bc9d891d-2072-42c5-eee5-63289eedce7c"
      },
      "execution_count": null,
      "outputs": [
        {
          "output_type": "stream",
          "name": "stderr",
          "text": [
            "jazz:  53%|█████▎    | 53/100 [00:04<00:02, 17.84it/s]/usr/local/lib/python3.12/dist-packages/librosa/core/audio.py:184: FutureWarning: librosa.core.audio.__audioread_load\n",
            "\tDeprecated as of librosa version 0.10.0.\n",
            "\tIt will be removed in librosa version 1.0.\n",
            "  y, sr_native = __audioread_load(path, offset, duration, dtype)\n",
            "jazz:  58%|█████▊    | 58/100 [00:05<00:02, 14.16it/s]"
          ]
        },
        {
          "output_type": "stream",
          "name": "stdout",
          "text": [
            "SKIP: /kaggle/input/gtzan-dataset-music-genre-classification/Data/genres_original/jazz/jazz.00054.wav -> NoBackendError\n"
          ]
        },
        {
          "output_type": "stream",
          "name": "stderr",
          "text": [
            "                                                       "
          ]
        },
        {
          "output_type": "stream",
          "name": "stdout",
          "text": [
            "Total files: 1000\n",
            "Used: 999 Skipped: 1\n"
          ]
        },
        {
          "output_type": "stream",
          "name": "stderr",
          "text": [
            "\r"
          ]
        },
        {
          "output_type": "execute_result",
          "data": {
            "text/plain": [
              "                                            features  label  \\\n",
              "0  [-113.619385, 121.55302, -19.151056, 42.345768...  blues   \n",
              "1  [-207.58151, 123.99715, 8.939115, 35.870758, 2...  blues   \n",
              "2  [-90.776344, 140.44861, -29.10056, 31.68734, -...  blues   \n",
              "3  [-199.462, 150.09474, 5.649167, 26.870144, 1.7...  blues   \n",
              "4  [-160.29185, 126.19576, -35.6025, 22.151169, -...  blues   \n",
              "\n",
              "                                                path  \n",
              "0  /kaggle/input/gtzan-dataset-music-genre-classi...  \n",
              "1  /kaggle/input/gtzan-dataset-music-genre-classi...  \n",
              "2  /kaggle/input/gtzan-dataset-music-genre-classi...  \n",
              "3  /kaggle/input/gtzan-dataset-music-genre-classi...  \n",
              "4  /kaggle/input/gtzan-dataset-music-genre-classi...  "
            ],
            "text/html": [
              "\n",
              "  <div id=\"df-3da99aa5-6f68-467e-b412-edde3b33d4f2\" class=\"colab-df-container\">\n",
              "    <div>\n",
              "<style scoped>\n",
              "    .dataframe tbody tr th:only-of-type {\n",
              "        vertical-align: middle;\n",
              "    }\n",
              "\n",
              "    .dataframe tbody tr th {\n",
              "        vertical-align: top;\n",
              "    }\n",
              "\n",
              "    .dataframe thead th {\n",
              "        text-align: right;\n",
              "    }\n",
              "</style>\n",
              "<table border=\"1\" class=\"dataframe\">\n",
              "  <thead>\n",
              "    <tr style=\"text-align: right;\">\n",
              "      <th></th>\n",
              "      <th>features</th>\n",
              "      <th>label</th>\n",
              "      <th>path</th>\n",
              "    </tr>\n",
              "  </thead>\n",
              "  <tbody>\n",
              "    <tr>\n",
              "      <th>0</th>\n",
              "      <td>[-113.619385, 121.55302, -19.151056, 42.345768...</td>\n",
              "      <td>blues</td>\n",
              "      <td>/kaggle/input/gtzan-dataset-music-genre-classi...</td>\n",
              "    </tr>\n",
              "    <tr>\n",
              "      <th>1</th>\n",
              "      <td>[-207.58151, 123.99715, 8.939115, 35.870758, 2...</td>\n",
              "      <td>blues</td>\n",
              "      <td>/kaggle/input/gtzan-dataset-music-genre-classi...</td>\n",
              "    </tr>\n",
              "    <tr>\n",
              "      <th>2</th>\n",
              "      <td>[-90.776344, 140.44861, -29.10056, 31.68734, -...</td>\n",
              "      <td>blues</td>\n",
              "      <td>/kaggle/input/gtzan-dataset-music-genre-classi...</td>\n",
              "    </tr>\n",
              "    <tr>\n",
              "      <th>3</th>\n",
              "      <td>[-199.462, 150.09474, 5.649167, 26.870144, 1.7...</td>\n",
              "      <td>blues</td>\n",
              "      <td>/kaggle/input/gtzan-dataset-music-genre-classi...</td>\n",
              "    </tr>\n",
              "    <tr>\n",
              "      <th>4</th>\n",
              "      <td>[-160.29185, 126.19576, -35.6025, 22.151169, -...</td>\n",
              "      <td>blues</td>\n",
              "      <td>/kaggle/input/gtzan-dataset-music-genre-classi...</td>\n",
              "    </tr>\n",
              "  </tbody>\n",
              "</table>\n",
              "</div>\n",
              "    <div class=\"colab-df-buttons\">\n",
              "\n",
              "  <div class=\"colab-df-container\">\n",
              "    <button class=\"colab-df-convert\" onclick=\"convertToInteractive('df-3da99aa5-6f68-467e-b412-edde3b33d4f2')\"\n",
              "            title=\"Convert this dataframe to an interactive table.\"\n",
              "            style=\"display:none;\">\n",
              "\n",
              "  <svg xmlns=\"http://www.w3.org/2000/svg\" height=\"24px\" viewBox=\"0 -960 960 960\">\n",
              "    <path d=\"M120-120v-720h720v720H120Zm60-500h600v-160H180v160Zm220 220h160v-160H400v160Zm0 220h160v-160H400v160ZM180-400h160v-160H180v160Zm440 0h160v-160H620v160ZM180-180h160v-160H180v160Zm440 0h160v-160H620v160Z\"/>\n",
              "  </svg>\n",
              "    </button>\n",
              "\n",
              "  <style>\n",
              "    .colab-df-container {\n",
              "      display:flex;\n",
              "      gap: 12px;\n",
              "    }\n",
              "\n",
              "    .colab-df-convert {\n",
              "      background-color: #E8F0FE;\n",
              "      border: none;\n",
              "      border-radius: 50%;\n",
              "      cursor: pointer;\n",
              "      display: none;\n",
              "      fill: #1967D2;\n",
              "      height: 32px;\n",
              "      padding: 0 0 0 0;\n",
              "      width: 32px;\n",
              "    }\n",
              "\n",
              "    .colab-df-convert:hover {\n",
              "      background-color: #E2EBFA;\n",
              "      box-shadow: 0px 1px 2px rgba(60, 64, 67, 0.3), 0px 1px 3px 1px rgba(60, 64, 67, 0.15);\n",
              "      fill: #174EA6;\n",
              "    }\n",
              "\n",
              "    .colab-df-buttons div {\n",
              "      margin-bottom: 4px;\n",
              "    }\n",
              "\n",
              "    [theme=dark] .colab-df-convert {\n",
              "      background-color: #3B4455;\n",
              "      fill: #D2E3FC;\n",
              "    }\n",
              "\n",
              "    [theme=dark] .colab-df-convert:hover {\n",
              "      background-color: #434B5C;\n",
              "      box-shadow: 0px 1px 3px 1px rgba(0, 0, 0, 0.15);\n",
              "      filter: drop-shadow(0px 1px 2px rgba(0, 0, 0, 0.3));\n",
              "      fill: #FFFFFF;\n",
              "    }\n",
              "  </style>\n",
              "\n",
              "    <script>\n",
              "      const buttonEl =\n",
              "        document.querySelector('#df-3da99aa5-6f68-467e-b412-edde3b33d4f2 button.colab-df-convert');\n",
              "      buttonEl.style.display =\n",
              "        google.colab.kernel.accessAllowed ? 'block' : 'none';\n",
              "\n",
              "      async function convertToInteractive(key) {\n",
              "        const element = document.querySelector('#df-3da99aa5-6f68-467e-b412-edde3b33d4f2');\n",
              "        const dataTable =\n",
              "          await google.colab.kernel.invokeFunction('convertToInteractive',\n",
              "                                                    [key], {});\n",
              "        if (!dataTable) return;\n",
              "\n",
              "        const docLinkHtml = 'Like what you see? Visit the ' +\n",
              "          '<a target=\"_blank\" href=https://colab.research.google.com/notebooks/data_table.ipynb>data table notebook</a>'\n",
              "          + ' to learn more about interactive tables.';\n",
              "        element.innerHTML = '';\n",
              "        dataTable['output_type'] = 'display_data';\n",
              "        await google.colab.output.renderOutput(dataTable, element);\n",
              "        const docLink = document.createElement('div');\n",
              "        docLink.innerHTML = docLinkHtml;\n",
              "        element.appendChild(docLink);\n",
              "      }\n",
              "    </script>\n",
              "  </div>\n",
              "\n",
              "\n",
              "    <div id=\"df-99a61a4b-3254-4758-8476-cf789673b3a0\">\n",
              "      <button class=\"colab-df-quickchart\" onclick=\"quickchart('df-99a61a4b-3254-4758-8476-cf789673b3a0')\"\n",
              "                title=\"Suggest charts\"\n",
              "                style=\"display:none;\">\n",
              "\n",
              "<svg xmlns=\"http://www.w3.org/2000/svg\" height=\"24px\"viewBox=\"0 0 24 24\"\n",
              "     width=\"24px\">\n",
              "    <g>\n",
              "        <path d=\"M19 3H5c-1.1 0-2 .9-2 2v14c0 1.1.9 2 2 2h14c1.1 0 2-.9 2-2V5c0-1.1-.9-2-2-2zM9 17H7v-7h2v7zm4 0h-2V7h2v10zm4 0h-2v-4h2v4z\"/>\n",
              "    </g>\n",
              "</svg>\n",
              "      </button>\n",
              "\n",
              "<style>\n",
              "  .colab-df-quickchart {\n",
              "      --bg-color: #E8F0FE;\n",
              "      --fill-color: #1967D2;\n",
              "      --hover-bg-color: #E2EBFA;\n",
              "      --hover-fill-color: #174EA6;\n",
              "      --disabled-fill-color: #AAA;\n",
              "      --disabled-bg-color: #DDD;\n",
              "  }\n",
              "\n",
              "  [theme=dark] .colab-df-quickchart {\n",
              "      --bg-color: #3B4455;\n",
              "      --fill-color: #D2E3FC;\n",
              "      --hover-bg-color: #434B5C;\n",
              "      --hover-fill-color: #FFFFFF;\n",
              "      --disabled-bg-color: #3B4455;\n",
              "      --disabled-fill-color: #666;\n",
              "  }\n",
              "\n",
              "  .colab-df-quickchart {\n",
              "    background-color: var(--bg-color);\n",
              "    border: none;\n",
              "    border-radius: 50%;\n",
              "    cursor: pointer;\n",
              "    display: none;\n",
              "    fill: var(--fill-color);\n",
              "    height: 32px;\n",
              "    padding: 0;\n",
              "    width: 32px;\n",
              "  }\n",
              "\n",
              "  .colab-df-quickchart:hover {\n",
              "    background-color: var(--hover-bg-color);\n",
              "    box-shadow: 0 1px 2px rgba(60, 64, 67, 0.3), 0 1px 3px 1px rgba(60, 64, 67, 0.15);\n",
              "    fill: var(--button-hover-fill-color);\n",
              "  }\n",
              "\n",
              "  .colab-df-quickchart-complete:disabled,\n",
              "  .colab-df-quickchart-complete:disabled:hover {\n",
              "    background-color: var(--disabled-bg-color);\n",
              "    fill: var(--disabled-fill-color);\n",
              "    box-shadow: none;\n",
              "  }\n",
              "\n",
              "  .colab-df-spinner {\n",
              "    border: 2px solid var(--fill-color);\n",
              "    border-color: transparent;\n",
              "    border-bottom-color: var(--fill-color);\n",
              "    animation:\n",
              "      spin 1s steps(1) infinite;\n",
              "  }\n",
              "\n",
              "  @keyframes spin {\n",
              "    0% {\n",
              "      border-color: transparent;\n",
              "      border-bottom-color: var(--fill-color);\n",
              "      border-left-color: var(--fill-color);\n",
              "    }\n",
              "    20% {\n",
              "      border-color: transparent;\n",
              "      border-left-color: var(--fill-color);\n",
              "      border-top-color: var(--fill-color);\n",
              "    }\n",
              "    30% {\n",
              "      border-color: transparent;\n",
              "      border-left-color: var(--fill-color);\n",
              "      border-top-color: var(--fill-color);\n",
              "      border-right-color: var(--fill-color);\n",
              "    }\n",
              "    40% {\n",
              "      border-color: transparent;\n",
              "      border-right-color: var(--fill-color);\n",
              "      border-top-color: var(--fill-color);\n",
              "    }\n",
              "    60% {\n",
              "      border-color: transparent;\n",
              "      border-right-color: var(--fill-color);\n",
              "    }\n",
              "    80% {\n",
              "      border-color: transparent;\n",
              "      border-right-color: var(--fill-color);\n",
              "      border-bottom-color: var(--fill-color);\n",
              "    }\n",
              "    90% {\n",
              "      border-color: transparent;\n",
              "      border-bottom-color: var(--fill-color);\n",
              "    }\n",
              "  }\n",
              "</style>\n",
              "\n",
              "      <script>\n",
              "        async function quickchart(key) {\n",
              "          const quickchartButtonEl =\n",
              "            document.querySelector('#' + key + ' button');\n",
              "          quickchartButtonEl.disabled = true;  // To prevent multiple clicks.\n",
              "          quickchartButtonEl.classList.add('colab-df-spinner');\n",
              "          try {\n",
              "            const charts = await google.colab.kernel.invokeFunction(\n",
              "                'suggestCharts', [key], {});\n",
              "          } catch (error) {\n",
              "            console.error('Error during call to suggestCharts:', error);\n",
              "          }\n",
              "          quickchartButtonEl.classList.remove('colab-df-spinner');\n",
              "          quickchartButtonEl.classList.add('colab-df-quickchart-complete');\n",
              "        }\n",
              "        (() => {\n",
              "          let quickchartButtonEl =\n",
              "            document.querySelector('#df-99a61a4b-3254-4758-8476-cf789673b3a0 button');\n",
              "          quickchartButtonEl.style.display =\n",
              "            google.colab.kernel.accessAllowed ? 'block' : 'none';\n",
              "        })();\n",
              "      </script>\n",
              "    </div>\n",
              "\n",
              "    </div>\n",
              "  </div>\n"
            ],
            "application/vnd.google.colaboratory.intrinsic+json": {
              "type": "dataframe",
              "variable_name": "df",
              "summary": "{\n  \"name\": \"df\",\n  \"rows\": 999,\n  \"fields\": [\n    {\n      \"column\": \"features\",\n      \"properties\": {\n        \"dtype\": \"object\",\n        \"semantic_type\": \"\",\n        \"description\": \"\"\n      }\n    },\n    {\n      \"column\": \"label\",\n      \"properties\": {\n        \"dtype\": \"category\",\n        \"num_unique_values\": 10,\n        \"samples\": [\n          \"reggae\",\n          \"classical\",\n          \"jazz\"\n        ],\n        \"semantic_type\": \"\",\n        \"description\": \"\"\n      }\n    },\n    {\n      \"column\": \"path\",\n      \"properties\": {\n        \"dtype\": \"string\",\n        \"num_unique_values\": 999,\n        \"samples\": [\n          \"/kaggle/input/gtzan-dataset-music-genre-classification/Data/genres_original/hiphop/hiphop.00053.wav\",\n          \"/kaggle/input/gtzan-dataset-music-genre-classification/Data/genres_original/pop/pop.00094.wav\",\n          \"/kaggle/input/gtzan-dataset-music-genre-classification/Data/genres_original/country/country.00009.wav\"\n        ],\n        \"semantic_type\": \"\",\n        \"description\": \"\"\n      }\n    }\n  ]\n}"
            }
          },
          "metadata": {},
          "execution_count": 15
        }
      ]
    },
    {
      "cell_type": "markdown",
      "source": [
        "## Using Tabular"
      ],
      "metadata": {
        "id": "tze9yPiWnKb-"
      }
    },
    {
      "cell_type": "code",
      "source": [
        "import numpy as np, pandas as pd\n",
        "from sklearn.model_selection import train_test_split\n",
        "from sklearn.ensemble import RandomForestClassifier\n",
        "from sklearn.metrics import classification_report, confusion_matrix\n",
        "import matplotlib.pyplot as plt"
      ],
      "metadata": {
        "id": "okHzt3xdnSJX"
      },
      "execution_count": null,
      "outputs": []
    },
    {
      "cell_type": "markdown",
      "source": [
        "Train/test split + RandomForest"
      ],
      "metadata": {
        "id": "mUZYLt8MnXv0"
      }
    },
    {
      "cell_type": "code",
      "source": [
        "import numpy as np, pandas as pd\n",
        "from sklearn.model_selection import train_test_split\n",
        "from sklearn.ensemble import RandomForestClassifier\n",
        "from sklearn.metrics import classification_report, confusion_matrix\n",
        "import matplotlib.pyplot as plt\n",
        "\n",
        "X = np.vstack(df[\"features\"].values).astype(np.float32)\n",
        "y = df[\"label\"].values\n",
        "\n",
        "X_train, X_test, y_train, y_test = train_test_split(\n",
        "    X, y, test_size=0.2, random_state=42, stratify=y\n",
        ")\n",
        "\n",
        "rf = RandomForestClassifier(n_estimators=400, max_depth=None, random_state=42, n_jobs=-1)\n",
        "rf.fit(X_train, y_train)\n",
        "y_pred = rf.predict(X_test)\n",
        "print(classification_report(y_test, y_pred))"
      ],
      "metadata": {
        "colab": {
          "base_uri": "https://localhost:8080/"
        },
        "id": "3-5p3cwvmo2_",
        "outputId": "506ab20b-ab62-4317-c567-e06008cb4df1"
      },
      "execution_count": null,
      "outputs": [
        {
          "output_type": "stream",
          "name": "stdout",
          "text": [
            "              precision    recall  f1-score   support\n",
            "\n",
            "       blues       0.79      0.55      0.65        20\n",
            "   classical       0.86      0.90      0.88        20\n",
            "     country       0.50      0.65      0.57        20\n",
            "       disco       0.50      0.40      0.44        20\n",
            "      hiphop       0.54      0.65      0.59        20\n",
            "        jazz       0.62      0.65      0.63        20\n",
            "       metal       0.71      0.85      0.77        20\n",
            "         pop       0.65      0.85      0.74        20\n",
            "      reggae       0.67      0.50      0.57        20\n",
            "        rock       0.62      0.40      0.48        20\n",
            "\n",
            "    accuracy                           0.64       200\n",
            "   macro avg       0.64      0.64      0.63       200\n",
            "weighted avg       0.64      0.64      0.63       200\n",
            "\n"
          ]
        }
      ]
    },
    {
      "cell_type": "markdown",
      "source": [
        "Confusion matrix"
      ],
      "metadata": {
        "id": "Z3COVWVxnd__"
      }
    },
    {
      "cell_type": "code",
      "source": [
        "import seaborn as sns\n",
        "cm = confusion_matrix(y_test, y_pred, labels=sorted(pd.unique(y)))\n",
        "plt.figure(figsize=(8,6))\n",
        "sns.heatmap(cm, annot=True, fmt=\"d\", cmap=\"Blues\",\n",
        "            xticklabels=sorted(pd.unique(y)), yticklabels=sorted(pd.unique(y)))\n",
        "plt.xlabel(\"Predicted\"); plt.ylabel(\"True\"); plt.title(\"RF on MFCC (GTZAN)\")\n",
        "plt.show()"
      ],
      "metadata": {
        "colab": {
          "base_uri": "https://localhost:8080/",
          "height": 608
        },
        "id": "7uDiBykRnaEO",
        "outputId": "41a181ef-7352-4225-8825-67d2400fe664"
      },
      "execution_count": null,
      "outputs": [
        {
          "output_type": "display_data",
          "data": {
            "text/plain": [
              "<Figure size 800x600 with 2 Axes>"
            ],
            "image/png": "[encoded data removed]"
          },
          "metadata": {}
        }
      ]
    },
    {
      "cell_type": "markdown",
      "source": [
        "## Image (Mel-spectrograms → CNN)"
      ],
      "metadata": {
        "id": "NZUB6RVJsC02"
      }
    },
    {
      "cell_type": "markdown",
      "source": [
        "Build spectrogram cache"
      ],
      "metadata": {
        "id": "Aqyg0RQ0sH9W"
      }
    },
    {
      "cell_type": "code",
      "source": [
        "import os, numpy as np, librosa, cv2, hashlib\n",
        "\n",
        "CACHE_DIR = \"/content/spec_cache_128\"\n",
        "os.makedirs(CACHE_DIR, exist_ok=True)\n",
        "\n",
        "def spec_cache_path(wav_path):\n",
        "    key = hashlib.md5(wav_path.encode()).hexdigest()\n",
        "    return os.path.join(CACHE_DIR, f\"{key}.npy\")\n",
        "\n",
        "def wav_to_spec128(wav_path):\n",
        "    y, sr = librosa.load(wav_path, sr=None, duration=30)\n",
        "    S = librosa.feature.melspectrogram(y=y, sr=sr, n_mels=128)\n",
        "    Sdb = librosa.power_to_db(S, ref=np.max)\n",
        "    Sdb = cv2.resize(Sdb, (128,128), interpolation=cv2.INTER_AREA)\n",
        "\n",
        "    # normalize to 0–1\n",
        "    Sdb = (Sdb - Sdb.min()) / (Sdb.max() - Sdb.min() + 1e-8)\n",
        "    return Sdb.astype(np.float32)\n",
        "\n",
        "def get_spec(wav_path):\n",
        "    npy = spec_cache_path(wav_path)\n",
        "    if os.path.exists(npy):\n",
        "        return np.load(npy)\n",
        "    try:\n",
        "        arr = wav_to_spec128(wav_path)\n",
        "        np.save(npy, arr)\n",
        "        return arr\n",
        "    except Exception as e:\n",
        "        print(\"SKIP IMG:\", wav_path, \"->\", e)\n",
        "        return None"
      ],
      "metadata": {
        "id": "zJoz0fshnge2"
      },
      "execution_count": null,
      "outputs": []
    },
    {
      "cell_type": "markdown",
      "source": [
        "Build image arrays from new dataset"
      ],
      "metadata": {
        "id": "j5wCgtvCsRe9"
      }
    },
    {
      "cell_type": "code",
      "source": [
        "from sklearn.model_selection import train_test_split\n",
        "\n",
        "paths = df[\"path\"].tolist()\n",
        "labels = df[\"label\"].tolist()\n",
        "classes = sorted(df[\"label\"].unique())\n",
        "cls_to_id = {c:i for i,c in enumerate(classes)}\n",
        "y_ids = np.array([cls_to_id[c] for c in labels], dtype=np.int64)\n",
        "\n",
        "Xtr_p, Xte_p, ytr, yte = train_test_split(paths, y_ids, test_size=0.2, random_state=42, stratify=y_ids)\n",
        "\n",
        "def paths_to_array(paths):\n",
        "    arrs = []\n",
        "    keep_idx = []\n",
        "    for i,p in enumerate(paths):\n",
        "        img = get_spec(p)\n",
        "        if img is not None:\n",
        "            arrs.append(img[..., np.newaxis])  # HxWx1\n",
        "            keep_idx.append(i)\n",
        "    return np.stack(arrs), np.array(keep_idx)\n",
        "\n",
        "Xtr, keep_tr = paths_to_array(Xtr_p)\n",
        "ytr = ytr[keep_tr]\n",
        "Xte, keep_te = paths_to_array(Xte_p)\n",
        "yte = yte[keep_te]\n",
        "\n",
        "Xtr.shape, Xte.shape"
      ],
      "metadata": {
        "colab": {
          "base_uri": "https://localhost:8080/"
        },
        "id": "IRMTT81bsAOX",
        "outputId": "2b5bed0b-70d5-4ba5-f8c2-dd4ea69616bd"
      },
      "execution_count": null,
      "outputs": [
        {
          "output_type": "execute_result",
          "data": {
            "text/plain": [
              "((799, 128, 128, 1), (200, 128, 128, 1))"
            ]
          },
          "metadata": {},
          "execution_count": 21
        }
      ]
    },
    {
      "cell_type": "markdown",
      "source": [
        "CNN"
      ],
      "metadata": {
        "id": "MjgIF9TJsVFN"
      }
    },
    {
      "cell_type": "code",
      "source": [
        "import tensorflow as tf\n",
        "from tensorflow.keras import layers, models\n",
        "\n",
        "model = models.Sequential([\n",
        "    layers.Conv2D(32, (3,3), activation='relu', input_shape=(128,128,1)),\n",
        "    layers.MaxPooling2D(2),\n",
        "    layers.Conv2D(64, (3,3), activation='relu'),\n",
        "    layers.MaxPooling2D(2),\n",
        "    layers.Conv2D(128, (3,3), activation='relu'),\n",
        "    layers.MaxPooling2D(2),\n",
        "    layers.Flatten(),\n",
        "    layers.Dropout(0.3),\n",
        "    layers.Dense(128, activation='relu'),\n",
        "    layers.Dense(len(classes), activation='softmax')\n",
        "])\n",
        "\n",
        "model.compile(optimizer='adam', loss='sparse_categorical_crossentropy', metrics=['accuracy'])\n",
        "history = model.fit(Xtr, ytr, epochs=10, batch_size=32, validation_data=(Xte, yte), verbose=1)"
      ],
      "metadata": {
        "colab": {
          "base_uri": "https://localhost:8080/"
        },
        "id": "ZEl-LpUesO4l",
        "outputId": "566a79b6-a37b-45f0-bb0a-3ad85cf6d9ce"
      },
      "execution_count": null,
      "outputs": [
        {
          "output_type": "stream",
          "name": "stdout",
          "text": [
            "Epoch 1/10\n",
            "\u001b[1m25/25\u001b[0m \u001b[32m━━━━━━━━━━━━━━━━━━━━\u001b[0m\u001b[37m\u001b[0m \u001b[1m25s\u001b[0m 944ms/step - accuracy: 0.1258 - loss: 2.3070 - val_accuracy: 0.1500 - val_loss: 2.1566\n",
            "Epoch 2/10\n",
            "\u001b[1m25/25\u001b[0m \u001b[32m━━━━━━━━━━━━━━━━━━━━\u001b[0m\u001b[37m\u001b[0m \u001b[1m28s\u001b[0m 1s/step - accuracy: 0.1841 - loss: 2.1413 - val_accuracy: 0.2300 - val_loss: 2.1073\n",
            "Epoch 3/10\n",
            "\u001b[1m25/25\u001b[0m \u001b[32m━━━━━━━━━━━━━━━━━━━━\u001b[0m\u001b[37m\u001b[0m \u001b[1m37s\u001b[0m 973ms/step - accuracy: 0.3290 - loss: 1.9338 - val_accuracy: 0.2150 - val_loss: 1.9479\n",
            "Epoch 4/10\n",
            "\u001b[1m25/25\u001b[0m \u001b[32m━━━━━━━━━━━━━━━━━━━━\u001b[0m\u001b[37m\u001b[0m \u001b[1m39s\u001b[0m 901ms/step - accuracy: 0.3414 - loss: 1.8194 - val_accuracy: 0.3700 - val_loss: 1.7405\n",
            "Epoch 5/10\n",
            "\u001b[1m25/25\u001b[0m \u001b[32m━━━━━━━━━━━━━━━━━━━━\u001b[0m\u001b[37m\u001b[0m \u001b[1m40s\u001b[0m 857ms/step - accuracy: 0.4610 - loss: 1.5740 - val_accuracy: 0.4600 - val_loss: 1.6071\n",
            "Epoch 6/10\n",
            "\u001b[1m25/25\u001b[0m \u001b[32m━━━━━━━━━━━━━━━━━━━━\u001b[0m\u001b[37m\u001b[0m \u001b[1m42s\u001b[0m 905ms/step - accuracy: 0.5641 - loss: 1.2805 - val_accuracy: 0.5000 - val_loss: 1.5073\n",
            "Epoch 7/10\n",
            "\u001b[1m25/25\u001b[0m \u001b[32m━━━━━━━━━━━━━━━━━━━━\u001b[0m\u001b[37m\u001b[0m \u001b[1m41s\u001b[0m 904ms/step - accuracy: 0.5824 - loss: 1.1972 - val_accuracy: 0.5600 - val_loss: 1.2982\n",
            "Epoch 8/10\n",
            "\u001b[1m25/25\u001b[0m \u001b[32m━━━━━━━━━━━━━━━━━━━━\u001b[0m\u001b[37m\u001b[0m \u001b[1m40s\u001b[0m 853ms/step - accuracy: 0.5845 - loss: 1.1304 - val_accuracy: 0.5550 - val_loss: 1.4294\n",
            "Epoch 9/10\n",
            "\u001b[1m25/25\u001b[0m \u001b[32m━━━━━━━━━━━━━━━━━━━━\u001b[0m\u001b[37m\u001b[0m \u001b[1m23s\u001b[0m 905ms/step - accuracy: 0.6396 - loss: 1.0210 - val_accuracy: 0.5300 - val_loss: 1.3577\n",
            "Epoch 10/10\n",
            "\u001b[1m25/25\u001b[0m \u001b[32m━━━━━━━━━━━━━━━━━━━━\u001b[0m\u001b[37m\u001b[0m \u001b[1m40s\u001b[0m 856ms/step - accuracy: 0.7058 - loss: 0.8925 - val_accuracy: 0.5200 - val_loss: 1.4207\n"
          ]
        }
      ]
    },
    {
      "cell_type": "code",
      "source": [
        "yhat = model.predict(Xte).argmax(axis=1)\n",
        "print(classification_report(yte, yhat, target_names=classes))"
      ],
      "metadata": {
        "colab": {
          "base_uri": "https://localhost:8080/"
        },
        "id": "hcI93p2fsZnN",
        "outputId": "927777c5-64e6-4108-d136-0faa89da3764"
      },
      "execution_count": null,
      "outputs": [
        {
          "output_type": "stream",
          "name": "stdout",
          "text": [
            "\u001b[1m7/7\u001b[0m \u001b[32m━━━━━━━━━━━━━━━━━━━━\u001b[0m\u001b[37m\u001b[0m \u001b[1m2s\u001b[0m 304ms/step\n",
            "              precision    recall  f1-score   support\n",
            "\n",
            "       blues       0.71      0.25      0.37        20\n",
            "   classical       0.78      0.90      0.84        20\n",
            "     country       0.50      0.70      0.58        20\n",
            "       disco       0.18      0.10      0.13        20\n",
            "      hiphop       0.57      0.40      0.47        20\n",
            "        jazz       0.80      0.40      0.53        20\n",
            "       metal       0.50      0.80      0.62        20\n",
            "         pop       0.58      0.70      0.64        20\n",
            "      reggae       0.53      0.45      0.49        20\n",
            "        rock       0.29      0.50      0.37        20\n",
            "\n",
            "    accuracy                           0.52       200\n",
            "   macro avg       0.55      0.52      0.50       200\n",
            "weighted avg       0.55      0.52      0.50       200\n",
            "\n"
          ]
        }
      ]
    },
    {
      "cell_type": "code",
      "source": [],
      "metadata": {
        "id": "-PFPeMPqsiyV"
      },
      "execution_count": null,
      "outputs": []
    },
    {
      "cell_type": "code",
      "source": [],
      "metadata": {
        "id": "sFAGzmcNuoBt"
      },
      "execution_count": null,
      "outputs": []
    },
    {
      "cell_type": "code",
      "source": [
        "import librosa, numpy as np\n",
        "\n",
        "def extract_features_rich(path, sr_target=None, duration=30, n_mfcc=20):\n",
        "    y, sr = librosa.load(path, sr=sr_target, duration=duration)\n",
        "\n",
        "    # MFCCs + deltas\n",
        "    mfcc = librosa.feature.mfcc(y=y, sr=sr, n_mfcc=n_mfcc)\n",
        "    d1   = librosa.feature.delta(mfcc)\n",
        "    d2   = librosa.feature.delta(mfcc, order=2)\n",
        "\n",
        "    # Chroma & spectral contrast\n",
        "    chroma = librosa.feature.chroma_stft(y=y, sr=sr)\n",
        "    scontrast = librosa.feature.spectral_contrast(y=y, sr=sr)\n",
        "\n",
        "    # Aggregate stats\n",
        "    def stats(M):\n",
        "        return np.hstack([M.mean(axis=1), M.std(axis=1)])\n",
        "    feat = np.hstack([stats(mfcc), stats(d1), stats(d2), stats(chroma), stats(scontrast)])\n",
        "    return feat.astype(np.float32)\n",
        "\n",
        "# Building feature matrix\n",
        "X_rich = []\n",
        "y_lbl  = []\n",
        "for p,lbl in zip(df['path'], df['label']):\n",
        "    try:\n",
        "        X_rich.append(extract_features_rich(p))\n",
        "        y_lbl.append(lbl)\n",
        "    except Exception as e:\n",
        "        pass\n",
        "X_rich = np.vstack(X_rich); y_lbl = np.array(y_lbl)\n",
        "print(X_rich.shape)"
      ],
      "metadata": {
        "colab": {
          "base_uri": "https://localhost:8080/"
        },
        "id": "Hwq64qujun4V",
        "outputId": "1a0c2b10-64c3-4fb7-af4d-fa0c82d83a3d"
      },
      "execution_count": null,
      "outputs": [
        {
          "output_type": "stream",
          "name": "stdout",
          "text": [
            "(999, 158)\n"
          ]
        }
      ]
    },
    {
      "cell_type": "markdown",
      "source": [
        "Classifier"
      ],
      "metadata": {
        "id": "UV8os9_ru_d9"
      }
    },
    {
      "cell_type": "code",
      "source": [
        "from sklearn.model_selection import train_test_split\n",
        "from sklearn.preprocessing import StandardScaler\n",
        "from sklearn.svm import SVC\n",
        "from sklearn.pipeline import make_pipeline\n",
        "from sklearn.metrics import classification_report\n",
        "\n",
        "Xtr, Xte, ytr, yte = train_test_split(X_rich, y_lbl, test_size=0.2, random_state=42, stratify=y_lbl)\n",
        "\n",
        "svm = make_pipeline(StandardScaler(), SVC(kernel='rbf', C=10, gamma='scale'))\n",
        "svm.fit(Xtr, ytr)\n",
        "yp = svm.predict(Xte)\n",
        "print(classification_report(yte, yp))"
      ],
      "metadata": {
        "colab": {
          "base_uri": "https://localhost:8080/"
        },
        "id": "fFR5eiEDun0l",
        "outputId": "ab91cca5-5a94-4d68-b9d2-1f5e3709cb7a"
      },
      "execution_count": null,
      "outputs": [
        {
          "output_type": "stream",
          "name": "stdout",
          "text": [
            "              precision    recall  f1-score   support\n",
            "\n",
            "       blues       0.85      0.85      0.85        20\n",
            "   classical       0.91      1.00      0.95        20\n",
            "     country       0.68      0.75      0.71        20\n",
            "       disco       0.59      0.50      0.54        20\n",
            "      hiphop       0.70      0.80      0.74        20\n",
            "        jazz       0.86      0.95      0.90        20\n",
            "       metal       0.95      0.90      0.92        20\n",
            "         pop       0.70      0.80      0.74        20\n",
            "      reggae       0.67      0.60      0.63        20\n",
            "        rock       0.64      0.45      0.53        20\n",
            "\n",
            "    accuracy                           0.76       200\n",
            "   macro avg       0.75      0.76      0.75       200\n",
            "weighted avg       0.75      0.76      0.75       200\n",
            "\n"
          ]
        }
      ]
    },
    {
      "cell_type": "markdown",
      "source": [
        "## Result:\n",
        "- Trained a CNN on mel-spectrograms of the GTZAN dataset (999 valid tracks; one corrupted file skipped).\n",
        "\n",
        "- Test accuracy: 76%. Strong performance on classical, jazz, metal; lower recall for rock, disco, reggae, which commonly overlap timbrally and rhythmically."
      ],
      "metadata": {
        "id": "TXGnP2sgzgNs"
      }
    },
    {
      "cell_type": "code",
      "source": [],
      "metadata": {
        "id": "1O_IM5VxyzvU"
      },
      "execution_count": null,
      "outputs": []
    }
  ]
}